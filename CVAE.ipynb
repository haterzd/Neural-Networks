{
  "nbformat": 4,
  "nbformat_minor": 0,
  "metadata": {
    "accelerator": "GPU",
    "colab": {
      "name": "2.homework10.ipynb",
      "provenance": [],
      "collapsed_sections": [],
      "authorship_tag": "ABX9TyM/id+tIW7YI78rM1ita4Fe",
      "include_colab_link": true
    },
    "kernelspec": {
      "display_name": "Python 3",
      "name": "python3"
    },
    "language_info": {
      "name": "python"
    }
  },
  "cells": [
    {
      "cell_type": "markdown",
      "metadata": {
        "id": "view-in-github",
        "colab_type": "text"
      },
      "source": [
        "<a href=\"https://colab.research.google.com/github/haterzd/Neural-Networks/blob/main/CVAE.ipynb\" target=\"_parent\"><img src=\"https://colab.research.google.com/assets/colab-badge.svg\" alt=\"Open In Colab\"/></a>"
      ]
    },
    {
      "cell_type": "code",
      "metadata": {
        "colab": {
          "base_uri": "https://localhost:8080/"
        },
        "id": "QA5h2CwoJ9O8",
        "outputId": "227ba4b7-71b2-4bbc-dff0-bc286fc6a071"
      },
      "source": [
        "# Установка дополнительного ПО и библиотек\n",
        "!apt-get install -q imagemagick # ПО для работы с графическими файлами\n",
        "!pip install celluloid # библиотека для создания анимации"
      ],
      "execution_count": null,
      "outputs": [
        {
          "output_type": "stream",
          "text": [
            "Reading package lists...\n",
            "Building dependency tree...\n",
            "Reading state information...\n",
            "The following additional packages will be installed:\n",
            "  fonts-droid-fallback fonts-noto-mono ghostscript gsfonts\n",
            "  imagemagick-6-common imagemagick-6.q16 libcupsfilters1 libcupsimage2\n",
            "  libdjvulibre-text libdjvulibre21 libgs9 libgs9-common libijs-0.35\n",
            "  libjbig2dec0 liblqr-1-0 libmagickcore-6.q16-3 libmagickcore-6.q16-3-extra\n",
            "  libmagickwand-6.q16-3 libnetpbm10 libwmf0.2-7 netpbm poppler-data\n",
            "Suggested packages:\n",
            "  fonts-noto ghostscript-x imagemagick-doc autotrace cups-bsd | lpr | lprng\n",
            "  enscript gimp gnuplot grads hp2xx html2ps libwmf-bin mplayer povray radiance\n",
            "  sane-utils texlive-base-bin transfig ufraw-batch inkscape libjxr-tools\n",
            "  libwmf0.2-7-gtk poppler-utils fonts-japanese-mincho | fonts-ipafont-mincho\n",
            "  fonts-japanese-gothic | fonts-ipafont-gothic fonts-arphic-ukai\n",
            "  fonts-arphic-uming fonts-nanum\n",
            "The following NEW packages will be installed:\n",
            "  fonts-droid-fallback fonts-noto-mono ghostscript gsfonts imagemagick\n",
            "  imagemagick-6-common imagemagick-6.q16 libcupsfilters1 libcupsimage2\n",
            "  libdjvulibre-text libdjvulibre21 libgs9 libgs9-common libijs-0.35\n",
            "  libjbig2dec0 liblqr-1-0 libmagickcore-6.q16-3 libmagickcore-6.q16-3-extra\n",
            "  libmagickwand-6.q16-3 libnetpbm10 libwmf0.2-7 netpbm poppler-data\n",
            "0 upgraded, 23 newly installed, 0 to remove and 40 not upgraded.\n",
            "Need to get 18.4 MB of archives.\n",
            "After this operation, 66.3 MB of additional disk space will be used.\n",
            "Get:1 http://archive.ubuntu.com/ubuntu bionic/main amd64 fonts-droid-fallback all 1:6.0.1r16-1.1 [1,805 kB]\n",
            "Get:2 http://archive.ubuntu.com/ubuntu bionic/main amd64 liblqr-1-0 amd64 0.4.2-2.1 [27.7 kB]\n",
            "Get:3 http://archive.ubuntu.com/ubuntu bionic-updates/main amd64 imagemagick-6-common all 8:6.9.7.4+dfsg-16ubuntu6.11 [60.2 kB]\n",
            "Get:4 http://archive.ubuntu.com/ubuntu bionic-updates/main amd64 libmagickcore-6.q16-3 amd64 8:6.9.7.4+dfsg-16ubuntu6.11 [1,619 kB]\n",
            "Get:5 http://archive.ubuntu.com/ubuntu bionic-updates/main amd64 libmagickwand-6.q16-3 amd64 8:6.9.7.4+dfsg-16ubuntu6.11 [294 kB]\n",
            "Get:6 http://archive.ubuntu.com/ubuntu bionic/main amd64 poppler-data all 0.4.8-2 [1,479 kB]\n",
            "Get:7 http://archive.ubuntu.com/ubuntu bionic/main amd64 fonts-noto-mono all 20171026-2 [75.5 kB]\n",
            "Get:8 http://archive.ubuntu.com/ubuntu bionic-updates/main amd64 libcupsimage2 amd64 2.2.7-1ubuntu2.8 [18.6 kB]\n",
            "Get:9 http://archive.ubuntu.com/ubuntu bionic/main amd64 libijs-0.35 amd64 0.35-13 [15.5 kB]\n",
            "Get:10 http://archive.ubuntu.com/ubuntu bionic/main amd64 libjbig2dec0 amd64 0.13-6 [55.9 kB]\n",
            "Get:11 http://archive.ubuntu.com/ubuntu bionic-updates/main amd64 libgs9-common all 9.26~dfsg+0-0ubuntu0.18.04.14 [5,092 kB]\n",
            "Get:12 http://archive.ubuntu.com/ubuntu bionic-updates/main amd64 libgs9 amd64 9.26~dfsg+0-0ubuntu0.18.04.14 [2,265 kB]\n",
            "Get:13 http://archive.ubuntu.com/ubuntu bionic-updates/main amd64 ghostscript amd64 9.26~dfsg+0-0ubuntu0.18.04.14 [51.3 kB]\n",
            "Get:14 http://archive.ubuntu.com/ubuntu bionic/main amd64 gsfonts all 1:8.11+urwcyr1.0.7~pre44-4.4 [3,120 kB]\n",
            "Get:15 http://archive.ubuntu.com/ubuntu bionic-updates/main amd64 imagemagick-6.q16 amd64 8:6.9.7.4+dfsg-16ubuntu6.11 [423 kB]\n",
            "Get:16 http://archive.ubuntu.com/ubuntu bionic-updates/main amd64 imagemagick amd64 8:6.9.7.4+dfsg-16ubuntu6.11 [14.2 kB]\n",
            "Get:17 http://archive.ubuntu.com/ubuntu bionic-updates/main amd64 libcupsfilters1 amd64 1.20.2-0ubuntu3.1 [108 kB]\n",
            "Get:18 http://archive.ubuntu.com/ubuntu bionic-updates/main amd64 libdjvulibre-text all 3.5.27.1-8ubuntu0.4 [49.4 kB]\n",
            "Get:19 http://archive.ubuntu.com/ubuntu bionic-updates/main amd64 libdjvulibre21 amd64 3.5.27.1-8ubuntu0.4 [561 kB]\n",
            "Get:20 http://archive.ubuntu.com/ubuntu bionic/main amd64 libwmf0.2-7 amd64 0.2.8.4-12 [150 kB]\n",
            "Get:21 http://archive.ubuntu.com/ubuntu bionic-updates/main amd64 libmagickcore-6.q16-3-extra amd64 8:6.9.7.4+dfsg-16ubuntu6.11 [62.4 kB]\n",
            "Get:22 http://archive.ubuntu.com/ubuntu bionic/main amd64 libnetpbm10 amd64 2:10.0-15.3build1 [58.0 kB]\n",
            "Get:23 http://archive.ubuntu.com/ubuntu bionic/main amd64 netpbm amd64 2:10.0-15.3build1 [1,017 kB]\n",
            "Fetched 18.4 MB in 1s (14.6 MB/s)\n",
            "Selecting previously unselected package fonts-droid-fallback.\n",
            "(Reading database ... 160837 files and directories currently installed.)\n",
            "Preparing to unpack .../00-fonts-droid-fallback_1%3a6.0.1r16-1.1_all.deb ...\n",
            "Unpacking fonts-droid-fallback (1:6.0.1r16-1.1) ...\n",
            "Selecting previously unselected package liblqr-1-0:amd64.\n",
            "Preparing to unpack .../01-liblqr-1-0_0.4.2-2.1_amd64.deb ...\n",
            "Unpacking liblqr-1-0:amd64 (0.4.2-2.1) ...\n",
            "Selecting previously unselected package imagemagick-6-common.\n",
            "Preparing to unpack .../02-imagemagick-6-common_8%3a6.9.7.4+dfsg-16ubuntu6.11_all.deb ...\n",
            "Unpacking imagemagick-6-common (8:6.9.7.4+dfsg-16ubuntu6.11) ...\n",
            "Selecting previously unselected package libmagickcore-6.q16-3:amd64.\n",
            "Preparing to unpack .../03-libmagickcore-6.q16-3_8%3a6.9.7.4+dfsg-16ubuntu6.11_amd64.deb ...\n",
            "Unpacking libmagickcore-6.q16-3:amd64 (8:6.9.7.4+dfsg-16ubuntu6.11) ...\n",
            "Selecting previously unselected package libmagickwand-6.q16-3:amd64.\n",
            "Preparing to unpack .../04-libmagickwand-6.q16-3_8%3a6.9.7.4+dfsg-16ubuntu6.11_amd64.deb ...\n",
            "Unpacking libmagickwand-6.q16-3:amd64 (8:6.9.7.4+dfsg-16ubuntu6.11) ...\n",
            "Selecting previously unselected package poppler-data.\n",
            "Preparing to unpack .../05-poppler-data_0.4.8-2_all.deb ...\n",
            "Unpacking poppler-data (0.4.8-2) ...\n",
            "Selecting previously unselected package fonts-noto-mono.\n",
            "Preparing to unpack .../06-fonts-noto-mono_20171026-2_all.deb ...\n",
            "Unpacking fonts-noto-mono (20171026-2) ...\n",
            "Selecting previously unselected package libcupsimage2:amd64.\n",
            "Preparing to unpack .../07-libcupsimage2_2.2.7-1ubuntu2.8_amd64.deb ...\n",
            "Unpacking libcupsimage2:amd64 (2.2.7-1ubuntu2.8) ...\n",
            "Selecting previously unselected package libijs-0.35:amd64.\n",
            "Preparing to unpack .../08-libijs-0.35_0.35-13_amd64.deb ...\n",
            "Unpacking libijs-0.35:amd64 (0.35-13) ...\n",
            "Selecting previously unselected package libjbig2dec0:amd64.\n",
            "Preparing to unpack .../09-libjbig2dec0_0.13-6_amd64.deb ...\n",
            "Unpacking libjbig2dec0:amd64 (0.13-6) ...\n",
            "Selecting previously unselected package libgs9-common.\n",
            "Preparing to unpack .../10-libgs9-common_9.26~dfsg+0-0ubuntu0.18.04.14_all.deb ...\n",
            "Unpacking libgs9-common (9.26~dfsg+0-0ubuntu0.18.04.14) ...\n",
            "Selecting previously unselected package libgs9:amd64.\n",
            "Preparing to unpack .../11-libgs9_9.26~dfsg+0-0ubuntu0.18.04.14_amd64.deb ...\n",
            "Unpacking libgs9:amd64 (9.26~dfsg+0-0ubuntu0.18.04.14) ...\n",
            "Selecting previously unselected package ghostscript.\n",
            "Preparing to unpack .../12-ghostscript_9.26~dfsg+0-0ubuntu0.18.04.14_amd64.deb ...\n",
            "Unpacking ghostscript (9.26~dfsg+0-0ubuntu0.18.04.14) ...\n",
            "Selecting previously unselected package gsfonts.\n",
            "Preparing to unpack .../13-gsfonts_1%3a8.11+urwcyr1.0.7~pre44-4.4_all.deb ...\n",
            "Unpacking gsfonts (1:8.11+urwcyr1.0.7~pre44-4.4) ...\n",
            "Selecting previously unselected package imagemagick-6.q16.\n",
            "Preparing to unpack .../14-imagemagick-6.q16_8%3a6.9.7.4+dfsg-16ubuntu6.11_amd64.deb ...\n",
            "Unpacking imagemagick-6.q16 (8:6.9.7.4+dfsg-16ubuntu6.11) ...\n",
            "Selecting previously unselected package imagemagick.\n",
            "Preparing to unpack .../15-imagemagick_8%3a6.9.7.4+dfsg-16ubuntu6.11_amd64.deb ...\n",
            "Unpacking imagemagick (8:6.9.7.4+dfsg-16ubuntu6.11) ...\n",
            "Selecting previously unselected package libcupsfilters1:amd64.\n",
            "Preparing to unpack .../16-libcupsfilters1_1.20.2-0ubuntu3.1_amd64.deb ...\n",
            "Unpacking libcupsfilters1:amd64 (1.20.2-0ubuntu3.1) ...\n",
            "Selecting previously unselected package libdjvulibre-text.\n",
            "Preparing to unpack .../17-libdjvulibre-text_3.5.27.1-8ubuntu0.4_all.deb ...\n",
            "Unpacking libdjvulibre-text (3.5.27.1-8ubuntu0.4) ...\n",
            "Selecting previously unselected package libdjvulibre21:amd64.\n",
            "Preparing to unpack .../18-libdjvulibre21_3.5.27.1-8ubuntu0.4_amd64.deb ...\n",
            "Unpacking libdjvulibre21:amd64 (3.5.27.1-8ubuntu0.4) ...\n",
            "Selecting previously unselected package libwmf0.2-7:amd64.\n",
            "Preparing to unpack .../19-libwmf0.2-7_0.2.8.4-12_amd64.deb ...\n",
            "Unpacking libwmf0.2-7:amd64 (0.2.8.4-12) ...\n",
            "Selecting previously unselected package libmagickcore-6.q16-3-extra:amd64.\n",
            "Preparing to unpack .../20-libmagickcore-6.q16-3-extra_8%3a6.9.7.4+dfsg-16ubuntu6.11_amd64.deb ...\n",
            "Unpacking libmagickcore-6.q16-3-extra:amd64 (8:6.9.7.4+dfsg-16ubuntu6.11) ...\n",
            "Selecting previously unselected package libnetpbm10.\n",
            "Preparing to unpack .../21-libnetpbm10_2%3a10.0-15.3build1_amd64.deb ...\n",
            "Unpacking libnetpbm10 (2:10.0-15.3build1) ...\n",
            "Selecting previously unselected package netpbm.\n",
            "Preparing to unpack .../22-netpbm_2%3a10.0-15.3build1_amd64.deb ...\n",
            "Unpacking netpbm (2:10.0-15.3build1) ...\n",
            "Setting up libgs9-common (9.26~dfsg+0-0ubuntu0.18.04.14) ...\n",
            "Setting up imagemagick-6-common (8:6.9.7.4+dfsg-16ubuntu6.11) ...\n",
            "Setting up fonts-droid-fallback (1:6.0.1r16-1.1) ...\n",
            "Setting up gsfonts (1:8.11+urwcyr1.0.7~pre44-4.4) ...\n",
            "Setting up poppler-data (0.4.8-2) ...\n",
            "Setting up libdjvulibre-text (3.5.27.1-8ubuntu0.4) ...\n",
            "Setting up libnetpbm10 (2:10.0-15.3build1) ...\n",
            "Setting up fonts-noto-mono (20171026-2) ...\n",
            "Setting up libcupsfilters1:amd64 (1.20.2-0ubuntu3.1) ...\n",
            "Setting up libcupsimage2:amd64 (2.2.7-1ubuntu2.8) ...\n",
            "Setting up liblqr-1-0:amd64 (0.4.2-2.1) ...\n",
            "Setting up libjbig2dec0:amd64 (0.13-6) ...\n",
            "Setting up libijs-0.35:amd64 (0.35-13) ...\n",
            "Setting up netpbm (2:10.0-15.3build1) ...\n",
            "Setting up libgs9:amd64 (9.26~dfsg+0-0ubuntu0.18.04.14) ...\n",
            "Setting up libwmf0.2-7:amd64 (0.2.8.4-12) ...\n",
            "Setting up libmagickcore-6.q16-3:amd64 (8:6.9.7.4+dfsg-16ubuntu6.11) ...\n",
            "Setting up libdjvulibre21:amd64 (3.5.27.1-8ubuntu0.4) ...\n",
            "Setting up ghostscript (9.26~dfsg+0-0ubuntu0.18.04.14) ...\n",
            "Setting up libmagickwand-6.q16-3:amd64 (8:6.9.7.4+dfsg-16ubuntu6.11) ...\n",
            "Setting up imagemagick-6.q16 (8:6.9.7.4+dfsg-16ubuntu6.11) ...\n",
            "update-alternatives: using /usr/bin/compare-im6.q16 to provide /usr/bin/compare (compare) in auto mode\n",
            "update-alternatives: using /usr/bin/compare-im6.q16 to provide /usr/bin/compare-im6 (compare-im6) in auto mode\n",
            "update-alternatives: using /usr/bin/animate-im6.q16 to provide /usr/bin/animate (animate) in auto mode\n",
            "update-alternatives: using /usr/bin/animate-im6.q16 to provide /usr/bin/animate-im6 (animate-im6) in auto mode\n",
            "update-alternatives: using /usr/bin/convert-im6.q16 to provide /usr/bin/convert (convert) in auto mode\n",
            "update-alternatives: using /usr/bin/convert-im6.q16 to provide /usr/bin/convert-im6 (convert-im6) in auto mode\n",
            "update-alternatives: using /usr/bin/composite-im6.q16 to provide /usr/bin/composite (composite) in auto mode\n",
            "update-alternatives: using /usr/bin/composite-im6.q16 to provide /usr/bin/composite-im6 (composite-im6) in auto mode\n",
            "update-alternatives: using /usr/bin/conjure-im6.q16 to provide /usr/bin/conjure (conjure) in auto mode\n",
            "update-alternatives: using /usr/bin/conjure-im6.q16 to provide /usr/bin/conjure-im6 (conjure-im6) in auto mode\n",
            "update-alternatives: using /usr/bin/import-im6.q16 to provide /usr/bin/import (import) in auto mode\n",
            "update-alternatives: using /usr/bin/import-im6.q16 to provide /usr/bin/import-im6 (import-im6) in auto mode\n",
            "update-alternatives: using /usr/bin/identify-im6.q16 to provide /usr/bin/identify (identify) in auto mode\n",
            "update-alternatives: using /usr/bin/identify-im6.q16 to provide /usr/bin/identify-im6 (identify-im6) in auto mode\n",
            "update-alternatives: using /usr/bin/stream-im6.q16 to provide /usr/bin/stream (stream) in auto mode\n",
            "update-alternatives: using /usr/bin/stream-im6.q16 to provide /usr/bin/stream-im6 (stream-im6) in auto mode\n",
            "update-alternatives: using /usr/bin/display-im6.q16 to provide /usr/bin/display (display) in auto mode\n",
            "update-alternatives: using /usr/bin/display-im6.q16 to provide /usr/bin/display-im6 (display-im6) in auto mode\n",
            "update-alternatives: using /usr/bin/montage-im6.q16 to provide /usr/bin/montage (montage) in auto mode\n",
            "update-alternatives: using /usr/bin/montage-im6.q16 to provide /usr/bin/montage-im6 (montage-im6) in auto mode\n",
            "update-alternatives: using /usr/bin/mogrify-im6.q16 to provide /usr/bin/mogrify (mogrify) in auto mode\n",
            "update-alternatives: using /usr/bin/mogrify-im6.q16 to provide /usr/bin/mogrify-im6 (mogrify-im6) in auto mode\n",
            "Setting up libmagickcore-6.q16-3-extra:amd64 (8:6.9.7.4+dfsg-16ubuntu6.11) ...\n",
            "Setting up imagemagick (8:6.9.7.4+dfsg-16ubuntu6.11) ...\n",
            "Processing triggers for hicolor-icon-theme (0.17-2) ...\n",
            "Processing triggers for fontconfig (2.12.6-0ubuntu2) ...\n",
            "Processing triggers for mime-support (3.60ubuntu1) ...\n",
            "Processing triggers for libc-bin (2.27-3ubuntu1.2) ...\n",
            "/sbin/ldconfig.real: /usr/local/lib/python3.7/dist-packages/ideep4py/lib/libmkldnn.so.0 is not a symbolic link\n",
            "\n",
            "Processing triggers for man-db (2.8.3-2ubuntu0.1) ...\n",
            "Collecting celluloid\n",
            "  Downloading celluloid-0.2.0-py3-none-any.whl (5.4 kB)\n",
            "Requirement already satisfied: matplotlib in /usr/local/lib/python3.7/dist-packages (from celluloid) (3.2.2)\n",
            "Requirement already satisfied: cycler>=0.10 in /usr/local/lib/python3.7/dist-packages (from matplotlib->celluloid) (0.10.0)\n",
            "Requirement already satisfied: pyparsing!=2.0.4,!=2.1.2,!=2.1.6,>=2.0.1 in /usr/local/lib/python3.7/dist-packages (from matplotlib->celluloid) (2.4.7)\n",
            "Requirement already satisfied: numpy>=1.11 in /usr/local/lib/python3.7/dist-packages (from matplotlib->celluloid) (1.19.5)\n",
            "Requirement already satisfied: python-dateutil>=2.1 in /usr/local/lib/python3.7/dist-packages (from matplotlib->celluloid) (2.8.1)\n",
            "Requirement already satisfied: kiwisolver>=1.0.1 in /usr/local/lib/python3.7/dist-packages (from matplotlib->celluloid) (1.3.1)\n",
            "Requirement already satisfied: six in /usr/local/lib/python3.7/dist-packages (from cycler>=0.10->matplotlib->celluloid) (1.15.0)\n",
            "Installing collected packages: celluloid\n",
            "Successfully installed celluloid-0.2.0\n"
          ],
          "name": "stdout"
        }
      ]
    },
    {
      "cell_type": "code",
      "metadata": {
        "id": "1rbpSIEzJ_6n"
      },
      "source": [
        "# Подключение библиотек\n",
        "from tensorflow.keras.datasets import mnist\n",
        "from tensorflow.keras.layers import Dense, Input, Lambda, Flatten, Reshape, Conv2D, MaxPooling2D, Conv2DTranspose\n",
        "from tensorflow.keras.layers import Dropout, BatchNormalization, LeakyReLU, concatenate\n",
        "from tensorflow.keras.models import Model\n",
        "from tensorflow.keras.losses import binary_crossentropy\n",
        "from tensorflow.keras.optimizers import Adam\n",
        "from tensorflow.keras.callbacks import LambdaCallback\n",
        "from IPython.display import clear_output, Image\n",
        "from celluloid import Camera\n",
        "from tensorflow.keras.utils import to_categorical\n",
        "import tensorflow.keras.backend as K\n",
        "import matplotlib.pyplot as plt\n",
        "import matplotlib.animation as animation\n",
        "import numpy as np\n",
        "from tensorflow.keras.preprocessing import image\n",
        "from PIL import Image #Для отрисовки изображений\n",
        "import os\n",
        "%matplotlib inline"
      ],
      "execution_count": null,
      "outputs": []
    },
    {
      "cell_type": "code",
      "metadata": {
        "colab": {
          "base_uri": "https://localhost:8080/"
        },
        "id": "hDQCSU--KBE9",
        "outputId": "28a22a96-15e9-4bd8-c30b-4e26b38324ef"
      },
      "source": [
        "from google.colab import drive\n",
        "drive.mount('/content/drive/')"
      ],
      "execution_count": null,
      "outputs": [
        {
          "output_type": "stream",
          "text": [
            "Mounted at /content/drive/\n"
          ],
          "name": "stdout"
        }
      ]
    },
    {
      "cell_type": "code",
      "metadata": {
        "id": "mCfPXUo2KCRW"
      },
      "source": [
        "!unzip -q '/content/drive/MyDrive/Data/archive.zip' -d '/content/eeye'"
      ],
      "execution_count": null,
      "outputs": []
    },
    {
      "cell_type": "code",
      "metadata": {
        "colab": {
          "base_uri": "https://localhost:8080/"
        },
        "id": "j9qrT1Z9KF9N",
        "outputId": "d611e0e0-77d1-4121-84b4-647adb8ced9c"
      },
      "source": [
        "img = image.load_img('/content/eeye/femaleeyes/1.jpg', grayscale=True, target_size=(32, 32, 1))\n",
        "ar = np.asarray(img)"
      ],
      "execution_count": null,
      "outputs": [
        {
          "output_type": "stream",
          "text": [
            "/usr/local/lib/python3.7/dist-packages/keras_preprocessing/image/utils.py:107: UserWarning: grayscale is deprecated. Please use color_mode = \"grayscale\"\n",
            "  warnings.warn('grayscale is deprecated. Please use '\n"
          ],
          "name": "stderr"
        }
      ]
    },
    {
      "cell_type": "code",
      "metadata": {
        "colab": {
          "base_uri": "https://localhost:8080/"
        },
        "id": "oMsObSuIKG99",
        "outputId": "c2b3197a-192c-43b0-fde5-029561dfd5ef"
      },
      "source": [
        "ar.shape"
      ],
      "execution_count": null,
      "outputs": [
        {
          "output_type": "execute_result",
          "data": {
            "text/plain": [
              "(32, 32)"
            ]
          },
          "metadata": {
            "tags": []
          },
          "execution_count": 6
        }
      ]
    },
    {
      "cell_type": "code",
      "metadata": {
        "colab": {
          "base_uri": "https://localhost:8080/",
          "height": 283
        },
        "id": "-HdgHXrzKTJm",
        "outputId": "e67b9a29-e1dc-4f87-cd8e-c3d6a8162f83"
      },
      "source": [
        "plt.imshow(ar)"
      ],
      "execution_count": null,
      "outputs": [
        {
          "output_type": "execute_result",
          "data": {
            "text/plain": [
              "<matplotlib.image.AxesImage at 0x7f8c62ef9490>"
            ]
          },
          "metadata": {
            "tags": []
          },
          "execution_count": 7
        },
        {
          "output_type": "display_data",
          "data": {
            "image/png": "[encoded data removed]",
            "text/plain": [
              "<Figure size 432x288 with 1 Axes>"
            ]
          },
          "metadata": {
            "tags": []
          }
        }
      ]
    },
    {
      "cell_type": "code",
      "metadata": {
        "id": "rrwgp-2XKlu_"
      },
      "source": [
        "files_female = os.listdir('/content/eeye/femaleeyes')\n",
        "files_male = os.listdir('/content/eeye/maleeyes')"
      ],
      "execution_count": null,
      "outputs": []
    },
    {
      "cell_type": "code",
      "metadata": {
        "colab": {
          "base_uri": "https://localhost:8080/"
        },
        "id": "r8cfuJ_HKqSV",
        "outputId": "090256a7-f58c-4e0c-d726-7fed999d991f"
      },
      "source": [
        "x_train = [] \n",
        "y_train = []\n",
        "\n",
        "for i in range(len(files_female)):\n",
        "  img_path = '/content/eeye/femaleeyes/' + files_female[i]\n",
        "  img = image.load_img(img_path, grayscale=True, target_size=(32, 32, 1))\n",
        "  x_train.append(np.asarray(img))\n",
        "  y_train.append(0)\n",
        "\n",
        "for i in range(len(files_male)):\n",
        "  img_path = '/content/eeye/maleeyes/' + files_male[i]\n",
        "  img = image.load_img(img_path, grayscale=True, target_size=(32, 32, 1))\n",
        "  x_train.append(np.asarray(img))\n",
        "  y_train.append(1)"
      ],
      "execution_count": null,
      "outputs": [
        {
          "output_type": "stream",
          "text": [
            "/usr/local/lib/python3.7/dist-packages/keras_preprocessing/image/utils.py:107: UserWarning: grayscale is deprecated. Please use color_mode = \"grayscale\"\n",
            "  warnings.warn('grayscale is deprecated. Please use '\n"
          ],
          "name": "stderr"
        }
      ]
    },
    {
      "cell_type": "code",
      "metadata": {
        "colab": {
          "base_uri": "https://localhost:8080/"
        },
        "id": "sujzWVXtKrSN",
        "outputId": "7360e454-3f57-49cb-cc56-69343ca990d0"
      },
      "source": [
        "len(y_train)"
      ],
      "execution_count": null,
      "outputs": [
        {
          "output_type": "execute_result",
          "data": {
            "text/plain": [
              "11525"
            ]
          },
          "metadata": {
            "tags": []
          },
          "execution_count": 10
        }
      ]
    },
    {
      "cell_type": "code",
      "metadata": {
        "colab": {
          "base_uri": "https://localhost:8080/"
        },
        "id": "DcyNWu6CiZEK",
        "outputId": "1827795d-df73-448b-d669-c3db81b7f0f0"
      },
      "source": [
        "len(x_train)"
      ],
      "execution_count": null,
      "outputs": [
        {
          "output_type": "execute_result",
          "data": {
            "text/plain": [
              "11525"
            ]
          },
          "metadata": {
            "tags": []
          },
          "execution_count": 11
        }
      ]
    },
    {
      "cell_type": "code",
      "metadata": {
        "id": "cr-sZCVZKuEF"
      },
      "source": [
        "x_train = np.array(x_train)\n",
        "y_train = np.array(y_train)"
      ],
      "execution_count": null,
      "outputs": []
    },
    {
      "cell_type": "code",
      "metadata": {
        "id": "fMdgrrGRKuye"
      },
      "source": [
        "x_train = x_train / 255\n",
        "x_train = np.reshape(x_train, (len(x_train), 32, 32, 1)) "
      ],
      "execution_count": null,
      "outputs": []
    },
    {
      "cell_type": "code",
      "metadata": {
        "id": "MZwmJbz5Kvsl"
      },
      "source": [
        "y_train = to_categorical(y_train, 2)"
      ],
      "execution_count": null,
      "outputs": []
    },
    {
      "cell_type": "code",
      "metadata": {
        "colab": {
          "base_uri": "https://localhost:8080/"
        },
        "id": "z5d8WhNJKwtd",
        "outputId": "37a9ef67-c8ad-4c06-de72-fc924368530e"
      },
      "source": [
        "print(x_train[0][0][0])\n",
        "print(y_train[0])"
      ],
      "execution_count": null,
      "outputs": [
        {
          "output_type": "stream",
          "text": [
            "[0.41568627]\n",
            "[1. 0.]\n"
          ],
          "name": "stdout"
        }
      ]
    },
    {
      "cell_type": "code",
      "metadata": {
        "colab": {
          "base_uri": "https://localhost:8080/"
        },
        "id": "aLy-jTw4KxtG",
        "outputId": "7cd65a11-8e03-4b35-b818-ec46900442fa"
      },
      "source": [
        "print(x_train.shape)\n",
        "print(y_train.shape)"
      ],
      "execution_count": null,
      "outputs": [
        {
          "output_type": "stream",
          "text": [
            "(11525, 32, 32, 1)\n",
            "(11525, 2)\n"
          ],
          "name": "stdout"
        }
      ]
    },
    {
      "cell_type": "code",
      "metadata": {
        "id": "BBzESo7sKy44"
      },
      "source": [
        "# Основные переменные\n",
        "batch_size=25 # Размер нашего батча\n",
        "latent_dim = 32 # размер скрытого слоя\n",
        "dropout_rate = 0.3 # доля выключаемых нейронов для слоя Dropout\n",
        "start_lr = 0.0001 # шаг обучения\n",
        "latent_distrs = [] # список, в котором будем сохранять результаты преобразования изображений, для последующей визуализации\n",
        "save_epochs = 2 # количество эпох, через которое будем сохранять результаты преобразования изображений\n",
        "img_height = x_train.shape[1] # высота картинки\n",
        "img_width = x_train.shape[2] # ширина картинки\n",
        "img_chanels = x_train.shape[3] # количество каналов картинки"
      ],
      "execution_count": null,
      "outputs": []
    },
    {
      "cell_type": "code",
      "metadata": {
        "id": "8RN9V6fsK0u9"
      },
      "source": [
        "# Используемые функции\n",
        "\n",
        "# функция добавления слоев Dropout и BatchNormalization\n",
        "def apply_bn_and_dropout(x):\n",
        "  '''\n",
        "  apply_bn_and_dropout - функция добавления слоев Dropout и BatchNormalization\n",
        "    вход:\n",
        "      x - набор слоев, после которых необходимо добавить Dropout и BatchNormalization\n",
        "      dropout_rate - доля отключенных нейронов (берется из родительской функции)\n",
        "    выход:\n",
        "      x - набор слоев с добавленными Dropout и BatchNormalization\n",
        "  '''\n",
        "  x = Dropout(dropout_rate) (x) # к слою x добавляем Dropout\n",
        "  x = BatchNormalization() (x) # к слою x добавляем BatchNormalization\n",
        "  return x\n",
        "    \n",
        "# функция создания собственного слоя\n",
        "def sampling(args):\n",
        "  '''\n",
        "  sampling - функция создания собственного слоя\n",
        "    вход:\n",
        "      args - два слоя из котрых возьмем мат.ожидание и ст.отклонение\n",
        "    выход:\n",
        "      sampling_layer - собственный слой\n",
        "  '''\n",
        "  z_mean, z_log_var = args # раскусываем поданные на вход слои\n",
        "  epsilon = K.random_normal(shape=(latent_dim,), mean=0., stddev=1.0) # керасовским методом делаем нормальное распределение c мат.ожиданием 0, ст.отклонением 1\n",
        "  sampling_layer = z_mean + K.exp(z_log_var / 2) * epsilon # изменяем мат.ожидание и ст.отклонение путем сложения и произведения \n",
        "  return sampling_layer\n",
        "\n",
        "# собственная функция ошибки для вариацинного автокодировщика (VAE)\n",
        "def vae_loss(x, decoded):\n",
        "  '''\n",
        "  vae_loss - функция ошибки для VAE\n",
        "    вход:\n",
        "      x - истинные картинки (те, что поданы в качестве y)\n",
        "      decoded - картинки, созданные VAE\n",
        "    выход:\n",
        "      res - значение ошибки\n",
        "  '''\n",
        "  # num_elements это наши метки, что мы через global получаем за каждую эпоху\n",
        "  \n",
        "  kl_loss = -0.5 * K.sum(1.0 + z_log_var_model([x,num_elements]) - K.square(z_mean_model([x,num_elements])) - K.exp(z_log_var_model([x,num_elements])), axis=-1) # по формуле кульбака-лейблера устанавливаем ошибку\n",
        "\n",
        "  x = K.reshape(x, (-1, img_height*img_width)) # меняем форму для последующего соответствия размеров\n",
        "  decoded = K.reshape(decoded, (-1, img_height*img_width)) # меняем форму для последующего соответствия размеров\n",
        "  xent_loss = img_height*img_width*binary_crossentropy(x, decoded) # берем бинарную кроссэнтропию между x и decoded, с учетом пикселей\n",
        "\n",
        "  res = (xent_loss*0.999 + kl_loss*0.001)/img_height/img_width # получаем суммарную ошибку с учетом распределения и размеров пикселей\n",
        "  return res"
      ],
      "execution_count": null,
      "outputs": []
    },
    {
      "cell_type": "code",
      "metadata": {
        "id": "Z3iMlRe7LbFJ"
      },
      "source": [
        "epoch = 0\n",
        "num_elements = K.constant(y_train[batch_size*epoch:batch_size*(epoch+1)])\n",
        "def on_epoch_end(epoch, logs):\n",
        "  '''\n",
        "  on_epoch_end - функция-callback для отрисовки полученных результатов\n",
        "    вход:\n",
        "      epoch - текущая эпоха\n",
        "      logs - текущее состояние параметров (loss, val_loss)\n",
        "    выход:\n",
        "      отрисовка изображений, полученных в результате работы VAE\n",
        "  '''\n",
        "  global num_elements\n",
        "  num_elements = K.constant(y_train[batch_size*epoch:batch_size*(epoch+1)])  # каждый раз переопределяем все метки, чтобы обучение шло хорошо\n",
        "  if epoch % save_epochs == 0: # если текущая эпоха кратная save_epochs\n",
        "    clear_output() # очищаем вывод\n",
        "\n",
        "    real_img = x_train[:10] # берем первые 10 изображений из x_test\n",
        "    real_img_nums = y_train[:10] # еще раз берем первые 10 изображений из x_test\n",
        "    pred_img = CVAE.predict([real_img, real_img_nums, real_img_nums]) # пропускаем их через CVAE\n",
        "\n",
        "    real_img_concat = np.concatenate([i for i in real_img[:,:,:,0]], axis=1) # объединяем 10 исходный изображений по оси 1\n",
        "    pred_img_concat = np.concatenate([i for i in pred_img[:,:,:,0]], axis=1) # объединяем 10 изображений, пропущенных через СVAE, по оси 1\n",
        "    plot_img = np.concatenate((real_img_concat, pred_img_concat), axis=0) # объединяем два полученных изображения в одно по оси 0\n",
        "    latent_distrs.append(plot_img) # итоговое изображение добавляем в список для последующего анимирования результата\n",
        "\n",
        "    plt.figure(figsize=(2*img_height, 2*len(real_img)), dpi=25) # создаем фигуру\n",
        "    plt.imshow(plot_img, cmap='Greys_r') # отрисовываем итоговое изображение\n",
        "    plt.grid(False) # убираем сетку\n",
        "    plt.axis('off') # выключаем оси\n",
        "    plt.show() # выводим результат\n",
        "\n",
        "pltfig = LambdaCallback(on_epoch_end=on_epoch_end)"
      ],
      "execution_count": null,
      "outputs": []
    },
    {
      "cell_type": "code",
      "metadata": {
        "id": "hGorgGkr0V13"
      },
      "source": [
        "# Создание энкодера на полносвязных слоях\n",
        "en_in = Input((img_height, img_width, img_chanels)) # входной слой\n",
        "# en = Flatten() (en_in) # разворачиванние входного массива для использования полносвязных слоев\n",
        "class_1 = Input(shape=(2,))  # Дополнительным входом подаём метки в виде OHE на 10 элементов(кол-во классов)\n",
        "conv = Conv2D(32, (3, 3), strides=2, activation='relu', padding='same')(en_in)\n",
        "conv = Conv2D(64, (3, 3), strides=2, activation='relu', padding='same')(conv)\n",
        "conv = Conv2D(128, (3, 3), strides=2, activation='relu', padding='same')(conv)\n",
        "conv = Conv2D(256, (3, 3), strides=2, activation='relu', padding='same')(conv)\n",
        "conv = Flatten()(conv)\n",
        "en = concatenate([conv, class_1]) # Соединяем наши входные слои\n",
        "en = Dense(256, activation='relu') (en) # подключение полносвязного слоя на 256 нейронов\n",
        "\n",
        "\n",
        "z_mean = Dense(latent_dim) (en) # скрытое пространство (мат.ожидание) размером latent_dim\n",
        "z_log_var = Dense(latent_dim) (en) # скрытое пространство (лог.вариации) размером latent_dim\n",
        "\n",
        "l = Lambda(sampling, output_shape=(latent_dim,))([z_mean, z_log_var])  # задаем самописный слой, к-й принимает лист [z_mean, z_log_var], семплирует, и на выходе выдает размерность (latent_dim,)\n",
        "\n",
        "# Создание декодера на полносвязных слоях\n",
        "dec_in = Input(shape =(latent_dim,)) # задаем входную размерность\n",
        "class_2 = Input(shape=(2,))\n",
        "dec = concatenate([dec_in, class_2])\n",
        "\n",
        "dec = Dense(256) (dec) # полносвязный слой на 256 нейронов\n",
        "dec = LeakyReLU()(dec) # применяем функцию активации отдельным слоем\n",
        "\n",
        "dec = Dense(2*2*256, activation='relu') (dec) # полносвязный слой на 784 нейрона\n",
        "dec = Reshape((2, 2, 256)) (dec)  # меняем форму, приводим к нужным нам размерам\n",
        "dec = Conv2DTranspose(256, (3, 3), strides=2, padding='same')(dec)\n",
        "dec = Conv2DTranspose(128, (3, 3), strides=2, padding='same')(dec)\n",
        "dec = Conv2DTranspose(64, (3, 3), strides=2, padding='same')(dec)\n",
        "dec = Conv2DTranspose(32, (3, 3), strides=2, padding='same')(dec)\n",
        "dec = Conv2D(1, (3, 3), activation='sigmoid', padding='same')(dec)\n",
        "# создание необходимых моделей\n",
        "encoder = Model([en_in, class_1], l) # собираем модель энкодера от входа до лямбда слоя и добавляем доп входом нашу первую метку\n",
        "\n",
        "decoder = Model([dec_in, class_2], dec) # собираем модель декодераи добавляем доп входом нашу вторую метку\n",
        "\n",
        "z_mean_model = Model([en_in, class_1], z_mean)  # отдельная модель с путем от входов до z_mean\n",
        "\n",
        "z_log_var_model = Model([en_in, class_1], z_log_var) # отдельная модель с путем от входов до z_log_v    ar\n",
        "\n",
        "style = Model([en_in, class_1, class_2], decoder([z_mean_model([en_in, class_1]), class_2]))\n",
        "CVAE = Model([en_in, class_1, class_2], decoder([encoder([en_in, class_1]), class_2])) # собираем вариационный автокодировщик с условием, также двойное преобразование над входной картинкой(энкодер-декодер)"
      ],
      "execution_count": null,
      "outputs": []
    },
    {
      "cell_type": "code",
      "metadata": {
        "id": "8-5S1HyhLimr"
      },
      "source": [
        "# Компиляция CVAE с применением собственной функции ошибки\n",
        "CVAE.compile(loss=vae_loss, optimizer=Adam(start_lr))"
      ],
      "execution_count": null,
      "outputs": []
    },
    {
      "cell_type": "code",
      "metadata": {
        "colab": {
          "base_uri": "https://localhost:8080/"
        },
        "id": "y83Ctda8wOtT",
        "outputId": "a7625c00-4c7c-475a-ddfa-e9af43b53519"
      },
      "source": [
        "CVAE.summary()"
      ],
      "execution_count": null,
      "outputs": [
        {
          "output_type": "stream",
          "text": [
            "Model: \"model_11\"\n",
            "__________________________________________________________________________________________________\n",
            "Layer (type)                    Output Shape         Param #     Connected to                     \n",
            "==================================================================================================\n",
            "input_5 (InputLayer)            [(None, 32, 32, 1)]  0                                            \n",
            "__________________________________________________________________________________________________\n",
            "input_6 (InputLayer)            [(None, 2)]          0                                            \n",
            "__________________________________________________________________________________________________\n",
            "model_6 (Functional)            (None, 32)           667200      input_5[0][0]                    \n",
            "                                                                 input_6[0][0]                    \n",
            "__________________________________________________________________________________________________\n",
            "input_8 (InputLayer)            [(None, 2)]          0                                            \n",
            "__________________________________________________________________________________________________\n",
            "model_7 (Functional)            (None, 32, 32, 1)    1249793     model_6[0][0]                    \n",
            "                                                                 input_8[0][0]                    \n",
            "==================================================================================================\n",
            "Total params: 1,916,993\n",
            "Trainable params: 1,916,993\n",
            "Non-trainable params: 0\n",
            "__________________________________________________________________________________________________\n"
          ],
          "name": "stdout"
        }
      ]
    },
    {
      "cell_type": "code",
      "metadata": {
        "colab": {
          "background_save": true
        },
        "id": "BqcCJzo_LkXs",
        "outputId": "ef5d1f77-0e62-4557-9230-d1c6ab05c493"
      },
      "source": [
        "# Обучение CVAE\n",
        "CVAE.fit([x_train, y_train, y_train], x_train, batch_size=batch_size, epochs=30, verbose=1, callbacks=[pltfig])"
      ],
      "execution_count": null,
      "outputs": [
        {
          "output_type": "display_data",
          "data": {
            "image/png": "[encoded data removed]",
            "text/plain": [
              "<Figure size 1600x500 with 1 Axes>"
            ]
          },
          "metadata": {
            "tags": []
          }
        },
        {
          "output_type": "stream",
          "text": [
            "Epoch 10/10\n",
            "461/461 [==============================] - 107s 232ms/step - loss: 0.6022\n"
          ],
          "name": "stdout"
        },
        {
          "output_type": "execute_result",
          "data": {
            "text/plain": [
              "<tensorflow.python.keras.callbacks.History at 0x7f9b0dd440d0>"
            ]
          },
          "metadata": {
            "tags": []
          },
          "execution_count": 0
        }
      ]
    }
  ]
}